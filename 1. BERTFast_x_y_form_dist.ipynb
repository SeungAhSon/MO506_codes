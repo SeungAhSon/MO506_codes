{
 "cells": [
  {
   "cell_type": "code",
   "execution_count": 1,
   "metadata": {},
   "outputs": [],
   "source": [
    "import requests\n",
    "import json\n",
    "import torch\n",
    "import os\n",
    "from tqdm import tqdm\n",
    "import pandas as pd"
   ]
  },
  {
   "cell_type": "code",
   "execution_count": 2,
   "metadata": {},
   "outputs": [],
   "source": [
    "#import dataset\n",
    "temp1 = pd.read_excel(\"./dataset_maker.xlsx\", sheet_name=\"1) target\", usecols=\"U:Y\")\n",
    "temp2 = pd.read_excel(\"./dataset_maker.xlsx\", sheet_name=\"2) form\", usecols=\"S:W\")\n",
    "temp3 = pd.read_excel(\"./dataset_maker.xlsx\", sheet_name=\"3) dist\", usecols=\"R:V\")\n",
    "temp4 = pd.read_excel(\"./dataset_maker.xlsx\", sheet_name=\"4) target & form\", usecols=\"AD:AH\")\n",
    "temp5 = pd.read_excel(\"./dataset_maker.xlsx\", sheet_name=\"5) target & dist\", usecols=\"AD:AH\")\n",
    "temp6 = pd.read_excel(\"./dataset_maker.xlsx\", sheet_name=\"6) form & dist\", usecols=\"AB:AF\")\n",
    "temp7 = pd.read_excel(\"./dataset_maker.xlsx\", sheet_name=\"7) target & form & dist\", usecols=\"AM:AQ\")"
   ]
  },
  {
   "cell_type": "code",
   "execution_count": 3,
   "metadata": {},
   "outputs": [
    {
     "name": "stdout",
     "output_type": "stream",
     "text": [
      "1000 1000 1000 1000 1000 1000 1000\n"
     ]
    }
   ],
   "source": [
    "print(len(temp1),len(temp2),len(temp3),len(temp4),len(temp5),len(temp6),len(temp7))"
   ]
  },
  {
   "cell_type": "code",
   "execution_count": 4,
   "metadata": {},
   "outputs": [
    {
     "name": "stdout",
     "output_type": "stream",
     "text": [
      "Query        0\n",
      "Formation    0\n",
      "Distance     0\n",
      "x            0\n",
      "y            0\n",
      "dtype: int64\n"
     ]
    },
    {
     "data": {
      "text/html": [
       "<div>\n",
       "<style scoped>\n",
       "    .dataframe tbody tr th:only-of-type {\n",
       "        vertical-align: middle;\n",
       "    }\n",
       "\n",
       "    .dataframe tbody tr th {\n",
       "        vertical-align: top;\n",
       "    }\n",
       "\n",
       "    .dataframe thead th {\n",
       "        text-align: right;\n",
       "    }\n",
       "</style>\n",
       "<table border=\"1\" class=\"dataframe\">\n",
       "  <thead>\n",
       "    <tr style=\"text-align: right;\">\n",
       "      <th></th>\n",
       "      <th>Query</th>\n",
       "      <th>Formation</th>\n",
       "      <th>Distance</th>\n",
       "      <th>x</th>\n",
       "      <th>y</th>\n",
       "    </tr>\n",
       "  </thead>\n",
       "  <tbody>\n",
       "    <tr>\n",
       "      <th>0</th>\n",
       "      <td>The drones are allocated for assess the extent...</td>\n",
       "      <td>False</td>\n",
       "      <td>0</td>\n",
       "      <td>-92</td>\n",
       "      <td>-63</td>\n",
       "    </tr>\n",
       "    <tr>\n",
       "      <th>1</th>\n",
       "      <td>The drones must  tail the cargo ship as it nav...</td>\n",
       "      <td>False</td>\n",
       "      <td>0</td>\n",
       "      <td>87</td>\n",
       "      <td>56</td>\n",
       "    </tr>\n",
       "    <tr>\n",
       "      <th>2</th>\n",
       "      <td>The drones are engaged in the duty of survey a...</td>\n",
       "      <td>False</td>\n",
       "      <td>0</td>\n",
       "      <td>-93</td>\n",
       "      <td>72</td>\n",
       "    </tr>\n",
       "    <tr>\n",
       "      <th>3</th>\n",
       "      <td>The drones are dedicated to support firefighte...</td>\n",
       "      <td>False</td>\n",
       "      <td>0</td>\n",
       "      <td>-28</td>\n",
       "      <td>-10</td>\n",
       "    </tr>\n",
       "    <tr>\n",
       "      <th>4</th>\n",
       "      <td>The drones are mobilized to achieve capture br...</td>\n",
       "      <td>False</td>\n",
       "      <td>0</td>\n",
       "      <td>38</td>\n",
       "      <td>-7</td>\n",
       "    </tr>\n",
       "    <tr>\n",
       "      <th>...</th>\n",
       "      <td>...</td>\n",
       "      <td>...</td>\n",
       "      <td>...</td>\n",
       "      <td>...</td>\n",
       "      <td>...</td>\n",
       "    </tr>\n",
       "    <tr>\n",
       "      <th>6995</th>\n",
       "      <td>The drones are enlisted for tail the cargo shi...</td>\n",
       "      <td>grid</td>\n",
       "      <td>3</td>\n",
       "      <td>88</td>\n",
       "      <td>85</td>\n",
       "    </tr>\n",
       "    <tr>\n",
       "      <th>6996</th>\n",
       "      <td>The drones are tasked with  assist in tracking...</td>\n",
       "      <td>grid</td>\n",
       "      <td>3</td>\n",
       "      <td>65</td>\n",
       "      <td>-35</td>\n",
       "    </tr>\n",
       "    <tr>\n",
       "      <th>6997</th>\n",
       "      <td>The drones aim to track the maritime vessel's ...</td>\n",
       "      <td>grid</td>\n",
       "      <td>8</td>\n",
       "      <td>-96</td>\n",
       "      <td>88</td>\n",
       "    </tr>\n",
       "    <tr>\n",
       "      <th>6998</th>\n",
       "      <td>The drones are charged with support firefighte...</td>\n",
       "      <td>triangle</td>\n",
       "      <td>6</td>\n",
       "      <td>21</td>\n",
       "      <td>-21</td>\n",
       "    </tr>\n",
       "    <tr>\n",
       "      <th>6999</th>\n",
       "      <td>Our key objective is to conduct an archaeologi...</td>\n",
       "      <td>grid</td>\n",
       "      <td>3</td>\n",
       "      <td>-15</td>\n",
       "      <td>27</td>\n",
       "    </tr>\n",
       "  </tbody>\n",
       "</table>\n",
       "<p>7000 rows × 5 columns</p>\n",
       "</div>"
      ],
      "text/plain": [
       "                                                  Query Formation Distance  \\\n",
       "0     The drones are allocated for assess the extent...     False        0   \n",
       "1     The drones must  tail the cargo ship as it nav...     False        0   \n",
       "2     The drones are engaged in the duty of survey a...     False        0   \n",
       "3     The drones are dedicated to support firefighte...     False        0   \n",
       "4     The drones are mobilized to achieve capture br...     False        0   \n",
       "...                                                 ...       ...      ...   \n",
       "6995  The drones are enlisted for tail the cargo shi...      grid        3   \n",
       "6996  The drones are tasked with  assist in tracking...      grid        3   \n",
       "6997  The drones aim to track the maritime vessel's ...      grid        8   \n",
       "6998  The drones are charged with support firefighte...  triangle        6   \n",
       "6999  Our key objective is to conduct an archaeologi...      grid        3   \n",
       "\n",
       "        x    y  \n",
       "0     -92  -63  \n",
       "1      87   56  \n",
       "2     -93   72  \n",
       "3     -28  -10  \n",
       "4      38   -7  \n",
       "...   ...  ...  \n",
       "6995   88   85  \n",
       "6996   65  -35  \n",
       "6997  -96   88  \n",
       "6998   21  -21  \n",
       "6999  -15   27  \n",
       "\n",
       "[7000 rows x 5 columns]"
      ]
     },
     "execution_count": 4,
     "metadata": {},
     "output_type": "execute_result"
    }
   ],
   "source": [
    "temp_total = pd.concat([temp1, temp2, temp3, temp4, temp5, temp6, temp7], ignore_index=True)[[\"Query\",\"(x,y)\",\"Formation\",\"Distance\"]]\n",
    "temp_total = temp_total.astype(str)\n",
    "\n",
    "def extract_values(row):\n",
    "    if row==\"False\":  return False, False\n",
    "    else:\n",
    "      row = row[1:-1].split(',')\n",
    "      return row\n",
    "      \n",
    "temp_total[['x', 'y']] = temp_total['(x,y)'].apply(lambda row: pd.Series(extract_values(row)))\n",
    "temp_total = temp_total.drop(columns=['(x,y)'])\n",
    "print(temp_total.isna().sum())\n",
    "temp_total"
   ]
  },
  {
   "cell_type": "code",
   "execution_count": 5,
   "metadata": {},
   "outputs": [
    {
     "data": {
      "text/html": [
       "<div>\n",
       "<style scoped>\n",
       "    .dataframe tbody tr th:only-of-type {\n",
       "        vertical-align: middle;\n",
       "    }\n",
       "\n",
       "    .dataframe tbody tr th {\n",
       "        vertical-align: top;\n",
       "    }\n",
       "\n",
       "    .dataframe thead th {\n",
       "        text-align: right;\n",
       "    }\n",
       "</style>\n",
       "<table border=\"1\" class=\"dataframe\">\n",
       "  <thead>\n",
       "    <tr style=\"text-align: right;\">\n",
       "      <th></th>\n",
       "      <th>Query</th>\n",
       "      <th>ans</th>\n",
       "    </tr>\n",
       "  </thead>\n",
       "  <tbody>\n",
       "    <tr>\n",
       "      <th>0</th>\n",
       "      <td>The objective entails the accomplishment of as...</td>\n",
       "      <td>[8, 73, False, 0]</td>\n",
       "    </tr>\n",
       "    <tr>\n",
       "      <th>1</th>\n",
       "      <td>The drones must carry out assist in fighting a...</td>\n",
       "      <td>[21, 70, swarm, 8]</td>\n",
       "    </tr>\n",
       "    <tr>\n",
       "      <th>2</th>\n",
       "      <td>The drones are continuously monitoring the shi...</td>\n",
       "      <td>[-52, 98, zigzag, 12]</td>\n",
       "    </tr>\n",
       "    <tr>\n",
       "      <th>3</th>\n",
       "      <td>Our mission is centered on align the flight pa...</td>\n",
       "      <td>[False, False, zigzag, 0]</td>\n",
       "    </tr>\n",
       "    <tr>\n",
       "      <th>4</th>\n",
       "      <td>The drones are on a mission to  conduct a geol...</td>\n",
       "      <td>[26, -30, zigzag, 6]</td>\n",
       "    </tr>\n",
       "    <tr>\n",
       "      <th>...</th>\n",
       "      <td>...</td>\n",
       "      <td>...</td>\n",
       "    </tr>\n",
       "    <tr>\n",
       "      <th>6995</th>\n",
       "      <td>We are dedicated to assisting law enforcement ...</td>\n",
       "      <td>[100, 52, triangle, 11]</td>\n",
       "    </tr>\n",
       "    <tr>\n",
       "      <th>6996</th>\n",
       "      <td>The drones are assigned to  arrange the drones...</td>\n",
       "      <td>[False, False, grid, 7]</td>\n",
       "    </tr>\n",
       "    <tr>\n",
       "      <th>6997</th>\n",
       "      <td>We are obligated to survey a remote mountain p...</td>\n",
       "      <td>[-28, -17, False, 14]</td>\n",
       "    </tr>\n",
       "    <tr>\n",
       "      <th>6998</th>\n",
       "      <td>The drones are dispatched with the purpose of ...</td>\n",
       "      <td>[56, -21, False, 0]</td>\n",
       "    </tr>\n",
       "    <tr>\n",
       "      <th>6999</th>\n",
       "      <td>Our primary purpose with drones is to assist i...</td>\n",
       "      <td>[-33, 89, False, 0]</td>\n",
       "    </tr>\n",
       "  </tbody>\n",
       "</table>\n",
       "<p>7000 rows × 2 columns</p>\n",
       "</div>"
      ],
      "text/plain": [
       "                                                  Query  \\\n",
       "0     The objective entails the accomplishment of as...   \n",
       "1     The drones must carry out assist in fighting a...   \n",
       "2     The drones are continuously monitoring the shi...   \n",
       "3     Our mission is centered on align the flight pa...   \n",
       "4     The drones are on a mission to  conduct a geol...   \n",
       "...                                                 ...   \n",
       "6995  We are dedicated to assisting law enforcement ...   \n",
       "6996  The drones are assigned to  arrange the drones...   \n",
       "6997  We are obligated to survey a remote mountain p...   \n",
       "6998  The drones are dispatched with the purpose of ...   \n",
       "6999  Our primary purpose with drones is to assist i...   \n",
       "\n",
       "                            ans  \n",
       "0             [8, 73, False, 0]  \n",
       "1            [21, 70, swarm, 8]  \n",
       "2         [-52, 98, zigzag, 12]  \n",
       "3     [False, False, zigzag, 0]  \n",
       "4          [26, -30, zigzag, 6]  \n",
       "...                         ...  \n",
       "6995    [100, 52, triangle, 11]  \n",
       "6996    [False, False, grid, 7]  \n",
       "6997      [-28, -17, False, 14]  \n",
       "6998        [56, -21, False, 0]  \n",
       "6999        [-33, 89, False, 0]  \n",
       "\n",
       "[7000 rows x 2 columns]"
      ]
     },
     "execution_count": 5,
     "metadata": {},
     "output_type": "execute_result"
    }
   ],
   "source": [
    "#dataframe shuffle\n",
    "temp_total = temp_total.sample(frac=1).reset_index(drop=True)\n",
    "temp_total['ans'] = temp_total[['x','y','Formation','Distance']].values.tolist()\n",
    "temp_total = temp_total[[\"Query\", \"ans\"]]\n",
    "temp_total"
   ]
  },
  {
   "cell_type": "code",
   "execution_count": 6,
   "metadata": {},
   "outputs": [],
   "source": [
    "#train and test\n",
    "train_datasets = temp_total[:int(len(temp_total)*0.7)]\n",
    "test_datasets = temp_total[int(len(temp_total)*0.7):]\n",
    "\n",
    "temp_total_query, temp_total_ans = temp_total['Query'].tolist(), temp_total['ans'].tolist()\n",
    "train_query, train_ans = train_datasets['Query'].tolist(), train_datasets['ans'].tolist()\n",
    "test_query, test_ans = test_datasets['Query'].tolist(), test_datasets['ans'].tolist()"
   ]
  },
  {
   "cell_type": "code",
   "execution_count": 7,
   "metadata": {},
   "outputs": [
    {
     "data": {
      "text/plain": [
       "['The objective entails the accomplishment of assist in tracking a pack of endangered wolves presently occupying (8,73) for this operation.',\n",
       " 'The drones must carry out assist in fighting a raging wildfire presently based in (21,70) and organize the drones structured in the pattern of throng and align the drones amid the length of 8 as quickly as possible.',\n",
       " \"The drones are continuously monitoring the ship's movements presently found in (-52,98) and sync up the drones taking the form of wind and align the drones spanning the distance of 12 in support of the task.\",\n",
       " 'Our mission is centered on align the flight paths of the drones molded in the image of wavy during this operation.',\n",
       " 'The drones are on a mission to  conduct a geological survey of an earthquake-prone region in (26,-30) and configure the drone alignment modeled as meander and arrange the drones across the expanse of 6 using the drones.']"
      ]
     },
     "execution_count": 7,
     "metadata": {},
     "output_type": "execute_result"
    }
   ],
   "source": [
    "train_query[0:5]"
   ]
  },
  {
   "cell_type": "code",
   "execution_count": 8,
   "metadata": {},
   "outputs": [
    {
     "data": {
      "text/plain": [
       "[['8', '73', 'False', '0'],\n",
       " ['21', '70', 'swarm', '8'],\n",
       " ['-52', '98', 'zigzag', '12'],\n",
       " [False, False, 'zigzag', '0'],\n",
       " ['26', '-30', 'zigzag', '6']]"
      ]
     },
     "execution_count": 8,
     "metadata": {},
     "output_type": "execute_result"
    }
   ],
   "source": [
    "train_ans[0:5]"
   ]
  },
  {
   "cell_type": "code",
   "execution_count": 24,
   "metadata": {},
   "outputs": [],
   "source": [
    "num_formation_classes=5\n",
    "num_variables = 4\n",
    "category_mapping = {'False': 0, 'zigzag': 1, 'swarm': 2, 'circle': 3, 'triangle': 4, 'swarm': 5,'grid':6}  # Add more categories as needed"
   ]
  },
  {
   "cell_type": "code",
   "execution_count": 27,
   "metadata": {},
   "outputs": [],
   "source": [
    "import ast\n",
    "import torch\n",
    "from torch.utils.data import Dataset, DataLoader\n",
    "from transformers import BertTokenizerFast, BertModel\n",
    "from torch import nn, optim\n",
    "from tqdm import tqdm\n",
    "from sklearn.preprocessing import StandardScaler, LabelEncoder\n",
    "\n",
    "class CustomDataset(Dataset):\n",
    "    def __init__(self, sentences, labels):\n",
    "        self.sentences = sentences\n",
    "        self.labels = labels\n",
    "        self.tokenizer = BertTokenizerFast.from_pretrained('bert-base-uncased')\n",
    "\n",
    "    def __len__(self):\n",
    "        return len(self.sentences)\n",
    "\n",
    "    def parse_label(self, item):\n",
    "        try:\n",
    "            return ast.literal_eval(item)\n",
    "        except (SyntaxError, ValueError):\n",
    "            return item\n",
    "\n",
    "    def custom_encode_category(self, category):\n",
    "        # You can implement your custom encoding logic here\n",
    "        return category_mapping.get(category, -1)  # -1 for unknown categories\n",
    "\n",
    "    def reverse_encode_category(self, encoded_category):\n",
    "        # Reverse the mapping to get the original category\n",
    "        reverse_mapping = {v: k for k, v in category_mapping.items()}\n",
    "        return reverse_mapping.get(encoded_category, 'unknown')\n",
    "    \n",
    "    def __getitem__(self, idx):\n",
    "        sentence = self.sentences[idx]\n",
    "        label = self.labels[idx]\n",
    "\n",
    "        # Parse string representations into Python types\n",
    "        try:\n",
    "            label = [self.parse_label(item) for item in label]\n",
    "        except Exception as e:\n",
    "            print(f\"Error parsing label in batch {idx}: {e}\")\n",
    "            print(\"Label:\", label)\n",
    "            raise\n",
    "\n",
    "        # Convert numerical variables to float and handle the categorical variable\n",
    "        label_combined = [float(label[0]), float(label[1]), self.custom_encode_category(label[2]),float(label[3])]\n",
    "\n",
    "        # Tokenize and encode the sentence\n",
    "        encoding = self.tokenizer(sentence, return_tensors='pt', padding=True, truncation=True)\n",
    "\n",
    "        return {\n",
    "            'input_ids': encoding['input_ids'].flatten(),\n",
    "            'attention_mask': encoding['attention_mask'].flatten(),\n",
    "            'label': torch.tensor(label_combined, dtype=torch.float32)\n",
    "        }\n"
   ]
  },
  {
   "cell_type": "code",
   "execution_count": 29,
   "metadata": {},
   "outputs": [],
   "source": [
    "# Create a custom dataset\n",
    "dataset = CustomDataset(sentences=train_query, labels=train_ans)\n",
    "\n",
    "# Create a DataLoader\n",
    "dataloader = DataLoader(dataset, batch_size=1, shuffle=True)"
   ]
  },
  {
   "cell_type": "code",
   "execution_count": 13,
   "metadata": {},
   "outputs": [],
   "source": [
    "\n",
    "\n",
    "# Define the model architecture\n",
    "class CustomModel(nn.Module):\n",
    "    def __init__(self):\n",
    "        super(CustomModel, self).__init__()\n",
    "        self.bert = BertModel.from_pretrained('bert-base-uncased')\n",
    "        self.fc = nn.Linear(768, 4)  # Adjust the output size based on the number of variables you want to predict\n",
    "\n",
    "    def forward(self, input_ids, attention_mask):\n",
    "        outputs = self.bert(input_ids=input_ids, attention_mask=attention_mask)\n",
    "        pooled_output = outputs.pooler_output\n",
    "        output = self.fc(pooled_output)\n",
    "        return output\n",
    "\n",
    "# Instantiate the model and define loss function and optimizer\n",
    "model = CustomModel()\n",
    "criterion = nn.MSELoss()  # Adjust the loss function based on your task\n",
    "optimizer = optim.Adam(model.parameters(), lr=1e-5)\n",
    "device = torch.device('cuda:0' if torch.cuda.is_available() else 'cpu')"
   ]
  },
  {
   "cell_type": "code",
   "execution_count": 14,
   "metadata": {},
   "outputs": [
    {
     "name": "stderr",
     "output_type": "stream",
     "text": [
      "Epoch 1/5: 100%|██████████| 4900/4900 [40:50<00:00,  2.00batch/s, loss=661]\n",
      "Epoch 2/5: 100%|██████████| 4900/4900 [37:08<00:00,  2.20batch/s, loss=401]\n",
      "Epoch 3/5: 100%|██████████| 4900/4900 [36:55<00:00,  2.21batch/s, loss=253]\n",
      "Epoch 4/5: 100%|██████████| 4900/4900 [37:57<00:00,  2.15batch/s, loss=154]\n",
      "Epoch 5/5: 100%|██████████| 4900/4900 [37:34<00:00,  2.17batch/s, loss=90.6]\n"
     ]
    }
   ],
   "source": [
    "# Training loop with tqdm\n",
    "num_epochs = 5\n",
    "\n",
    "model.to(device)\n",
    "model.train()\n",
    "loss_list = []\n",
    "for epoch in range(num_epochs):\n",
    "    total_loss = 0\n",
    "\n",
    "    with tqdm(total=len(dataloader), desc=f'Epoch {epoch + 1}/{num_epochs}', unit='batch', postfix={'loss': 0.0}) as pbar:\n",
    "        for batch in dataloader:\n",
    "            input_ids = batch['input_ids'].to(device)\n",
    "            attention_mask = batch['attention_mask'].to(device)\n",
    "            labels = batch['label'].to(device)\n",
    "\n",
    "            # Forward pass\n",
    "            outputs = model(input_ids, attention_mask)\n",
    "            loss = criterion(outputs, labels)\n",
    "\n",
    "            # Backward pass and optimization\n",
    "            optimizer.zero_grad()\n",
    "            loss.backward()\n",
    "            optimizer.step()\n",
    "\n",
    "            total_loss += loss.item()\n",
    "            average_loss = total_loss / (pbar.n + 1)  # Calculate average loss per batch\n",
    "            pbar.set_postfix(loss=average_loss)\n",
    "            pbar.update(1)\n",
    "        loss_list.append(total_loss)\n",
    "\n",
    "\n",
    "# Save the trained model\n",
    "#torch.save(model.state_dict(), 'custom_model.pth')\n"
   ]
  },
  {
   "cell_type": "code",
   "execution_count": 15,
   "metadata": {},
   "outputs": [],
   "source": [
    "torch.save(model.state_dict(), 'custom_model.pth')"
   ]
  },
  {
   "cell_type": "code",
   "execution_count": 62,
   "metadata": {},
   "outputs": [
    {
     "name": "stderr",
     "output_type": "stream",
     "text": [
      "Testing: 100%|██████████| 2100/2100 [01:15<00:00, 27.64batch/s, loss=66.5]"
     ]
    },
    {
     "name": "stdout",
     "output_type": "stream",
     "text": [
      "Average Test Loss: 66.46966520537889\n"
     ]
    },
    {
     "name": "stderr",
     "output_type": "stream",
     "text": [
      "\n"
     ]
    }
   ],
   "source": [
    "# Testing loop with tqdm\n",
    "model.eval()\n",
    "test_loss = 0\n",
    "test_dataset = CustomDataset(sentences=test_query, labels=test_ans)\n",
    "test_dataloader = DataLoader(test_dataset, batch_size=1, shuffle=True)\n",
    "\n",
    "with torch.no_grad():\n",
    "    with tqdm(total=len(test_dataloader), desc='Testing', unit='batch', postfix={'loss': 0.0}) as pbar:\n",
    "        for batch in test_dataloader:\n",
    "            input_ids = batch['input_ids'].to(device)\n",
    "            attention_mask = batch['attention_mask'].to(device)\n",
    "            labels = batch['label'].to(device)\n",
    "\n",
    "            # Forward pass\n",
    "            outputs = model(input_ids, attention_mask)\n",
    "            loss = criterion(outputs, labels)\n",
    "\n",
    "            test_loss += loss.item()\n",
    "            average_loss = test_loss / (pbar.n + 1)  # Calculate average loss per batch\n",
    "            pbar.set_postfix(loss=average_loss)\n",
    "            pbar.update(1)\n",
    "\n",
    "# Calculate the average test loss\n",
    "average_test_loss = test_loss / len(test_dataloader)\n",
    "print(f'Average Test Loss: {average_test_loss}')\n",
    "\n"
   ]
  },
  {
   "cell_type": "code",
   "execution_count": null,
   "metadata": {},
   "outputs": [],
   "source": []
  },
  {
   "cell_type": "code",
   "execution_count": 33,
   "metadata": {},
   "outputs": [
    {
     "name": "stdout",
     "output_type": "stream",
     "text": [
      "Custom Sentence: The objective entails the accomplishment of assist in tracking a pack of endangered wolves presently occupying (8,73) for this operation.\n",
      "Predicted Label: 1\n",
      "Class Probabilities: tensor([[1.4586e-27, 1.0000e+00, 5.4999e-33, 9.5251e-33]])\n"
     ]
    }
   ],
   "source": [
    "tokenizer = BertTokenizerFast.from_pretrained('bert-base-uncased')\n",
    "\n",
    "custom_sentence = \"The objective entails the accomplishment of assist in tracking a pack of endangered wolves presently occupying (8,73) for this operation.\"\n",
    "\n",
    "# Tokenize and convert to tensor\n",
    "tokenized_input = tokenizer(custom_sentence, return_tensors='pt')\n",
    "input_ids = tokenized_input['input_ids'].to(device)\n",
    "attention_mask = tokenized_input['attention_mask'].to(device)\n",
    "\n",
    "# Make prediction\n",
    "with torch.no_grad():\n",
    "    model.eval()\n",
    "    output = model(input_ids, attention_mask)\n",
    "\n",
    "# Assuming your model outputs logits, you may want to apply softmax to get probabilities\n",
    "probabilities = torch.nn.functional.softmax(output, dim=1)\n",
    "\n",
    "# Get the predicted label\n",
    "predicted_label = torch.argmax(probabilities).item()\n",
    "\n",
    "# Print the results\n",
    "print(f\"Custom Sentence: {custom_sentence}\")\n",
    "print(f\"Predicted Label: {predicted_label}\")\n",
    "print(f\"Class Probabilities: {probabilities}\")"
   ]
  },
  {
   "cell_type": "code",
   "execution_count": 61,
   "metadata": {},
   "outputs": [
    {
     "name": "stdout",
     "output_type": "stream",
     "text": [
      "Custom Sentence: The objective entails the accomplishment of assist in tracking a pack of endangered wolves presently occupying (8,73) for this operation.\n",
      "Decoded Output - (x, y), dist : (12.73, 74.52), 0.79\n",
      "Decoded Category: False\n",
      "[8, 73, False, 0]\n"
     ]
    }
   ],
   "source": [
    "# Load the BERT tokenizer\n",
    "tokenizer = BertTokenizerFast.from_pretrained('bert-base-uncased')\n",
    "\n",
    "# Input your own custom sentence\n",
    "custom_sentence = \"The objective entails the accomplishment of assist in tracking a pack of endangered wolves presently occupying (8,73) for this operation.\"\n",
    "\n",
    "# Tokenize and convert to tensor\n",
    "tokenized_input = tokenizer(custom_sentence, return_tensors='pt')\n",
    "input_ids = tokenized_input['input_ids'].to(device)\n",
    "attention_mask = tokenized_input['attention_mask'].to(device)\n",
    "\n",
    "# Make prediction\n",
    "with torch.no_grad():\n",
    "    model.eval()\n",
    "    output = model(input_ids, attention_mask)\n",
    "\n",
    "# Decode the output tensor\n",
    "decoded_output = output.cpu().numpy()\n",
    "\n",
    "# Reverse the custom encoding for the category\n",
    "decoded_category = dataset.reverse_encode_category(int(decoded_output[0, 2]))\n",
    "\n",
    "# Print the results\n",
    "print(f\"Custom Sentence: {custom_sentence}\")\n",
    "print(\"Decoded Output - (x, y), dist : ({0:0.2f}, {1:0.2f}), {2:0.2f}\".format(\n",
    "    decoded_output[0, 0],\n",
    "    decoded_output[0, 1],\n",
    "    decoded_output[0, 3]))\n",
    "\n",
    "print(f\"Decoded Category: {decoded_category}\")\n",
    "print('[8, 73, False, 0]')"
   ]
  },
  {
   "cell_type": "code",
   "execution_count": 66,
   "metadata": {},
   "outputs": [
    {
     "data": {
      "text/plain": [
       "[['8', '73', 'False', '0'],\n",
       " ['21', '70', 'swarm', '8'],\n",
       " ['-52', '98', 'zigzag', '12'],\n",
       " [False, False, 'zigzag', '0'],\n",
       " ['26', '-30', 'zigzag', '6']]"
      ]
     },
     "execution_count": 66,
     "metadata": {},
     "output_type": "execute_result"
    }
   ],
   "source": [
    "train_ans[0:5]"
   ]
  },
  {
   "cell_type": "code",
   "execution_count": 86,
   "metadata": {},
   "outputs": [
    {
     "name": "stdout",
     "output_type": "stream",
     "text": [
      "[8, 73, 'False', 0]           [12.73, 74.52, 'False', 0.79]\n",
      "\n",
      "[21, 70, 'swarm', 8]          [22.04, 72.76, 'False', 0.96]\n",
      "\n",
      "[-52, 98, 'zigzag', 12]       [-37.95, 66.07, 'False', 0.6]\n",
      "\n",
      "[False, False, 'zigzag', 0]   [-0.06, 0.6, 'circle', 0.1]\n",
      "\n",
      "[26, -30, 'zigzag', 6]        [28.37, -30.97, 'zigzag', 4.87]\n",
      "\n"
     ]
    }
   ],
   "source": [
    "custom_sentence = ['The objective entails the accomplishment of assist in tracking a pack of endangered wolves presently occupying (8,73) for this operation.',\n",
    " 'The drones must carry out assist in fighting a raging wildfire presently based in (21,70) and organize the drones structured in the pattern of throng and align the drones amid the length of 8 as quickly as possible.',\n",
    " \"The drones are continuously monitoring the ship's movements presently found in (-52,98) and sync up the drones taking the form of wind and align the drones spanning the distance of 12 in support of the task.\",\n",
    " 'Our mission is centered on align the flight paths of the drones molded in the image of wavy during this operation.',\n",
    " 'The drones are on a mission to  conduct a geological survey of an earthquake-prone region in (26,-30) and configure the drone alignment modeled as meander and arrange the drones across the expanse of 6 using the drones.']\n",
    "\n",
    "custom_ans = [[8, 73, 'False', 0],\n",
    " [21, 70, 'swarm', 8],\n",
    " [-52, 98, 'zigzag', 12],\n",
    " [False, False, 'zigzag', 0],\n",
    " [26, -30, 'zigzag', 6]]\n",
    "\n",
    "\n",
    "with torch.no_grad():\n",
    "    model.eval()\n",
    "    for i in range(len(custom_sentence)):\n",
    "        tokenized_input = tokenizer(custom_sentence[i], return_tensors='pt')\n",
    "        input_ids = tokenized_input['input_ids'].to(device)\n",
    "        attention_mask = tokenized_input['attention_mask'].to(device)\n",
    "\n",
    "        output = model(input_ids, attention_mask)\n",
    "        decoded_output = output.cpu().numpy()\n",
    "        print('%-30s%-15s\\n'%(custom_ans[i], [round(decoded_output[0,0],2),round(decoded_output[0,1],2),dataset.reverse_encode_category(int(decoded_output[0, 2])),round(decoded_output[0,3],2)]))"
   ]
  },
  {
   "cell_type": "code",
   "execution_count": 90,
   "metadata": {},
   "outputs": [
    {
     "name": "stdout",
     "output_type": "stream",
     "text": [
      "[8, 73, 0, 0]                 [12.73, 74.52, 0.24, 0.79]\n",
      "\n",
      "[21, 70, 5, 8]                [22.04, 72.76, 0.16, 0.96]\n",
      "\n",
      "[-52, 98, 1, 12]              [-37.95, 66.07, 0.35, 0.6]\n",
      "\n",
      "[False, False, 1, 0]          [-0.06, 0.6, 3.8, 0.1]\n",
      "\n",
      "[26, -30, 1, 6]               [28.37, -30.97, 1.1, 4.87]\n",
      "\n"
     ]
    }
   ],
   "source": [
    "custom_encode = custom_ans.copy()\n",
    "custom_encode = [[i[0],i[1], dataset.custom_encode_category(i[2]), i[3]] for i in custom_encode]\n",
    "\n",
    "with torch.no_grad():\n",
    "    model.eval()\n",
    "    for i in range(len(custom_sentence)):\n",
    "        tokenized_input = tokenizer(custom_sentence[i], return_tensors='pt')\n",
    "        input_ids = tokenized_input['input_ids'].to(device)\n",
    "        attention_mask = tokenized_input['attention_mask'].to(device)\n",
    "\n",
    "        output = model(input_ids, attention_mask)\n",
    "        decoded_output = output.cpu().numpy()\n",
    "        print('%-30s%-15s\\n'%(custom_encode[i], [round(decoded_output[0,0],2),round(decoded_output[0,1],2),round(decoded_output[0,2],2),round(decoded_output[0,3],2)]))"
   ]
  },
  {
   "cell_type": "code",
   "execution_count": null,
   "metadata": {},
   "outputs": [],
   "source": []
  }
 ],
 "metadata": {
  "kernelspec": {
   "display_name": "MJ",
   "language": "python",
   "name": "python3"
  },
  "language_info": {
   "codemirror_mode": {
    "name": "ipython",
    "version": 3
   },
   "file_extension": ".py",
   "mimetype": "text/x-python",
   "name": "python",
   "nbconvert_exporter": "python",
   "pygments_lexer": "ipython3",
   "version": "3.8.18"
  }
 },
 "nbformat": 4,
 "nbformat_minor": 5
}
